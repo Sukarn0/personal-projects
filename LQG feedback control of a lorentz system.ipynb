{
 "cells": [
  {
   "cell_type": "code",
   "execution_count": 1,
   "metadata": {},
   "outputs": [],
   "source": [
    "import numpy as np\n",
    "import scipy.integrate as spi\n",
    "import scipy.linalg as spla\n",
    "import matplotlib.pyplot as plt\n",
    "import control\n",
    "\n",
    "# Constants\n",
    "a = 10\n",
    "b = 1\n",
    "c = 1\n",
    "\n",
    "# State space representation of Lorentz system\n",
    "def lorentz_sys(x, t, u):\n",
    "    xdot = np.zeros(2)\n",
    "    xdot[0] = x[1]\n",
    "    xdot[1] = -a * x[0] - b * x[1] - c * x[0]**2 + u\n",
    "    return xdot\n",
    "\n",
    "# LQR design\n",
    "Q = np.array([[1, 0], [0, 1]])\n",
    "R = np.array([[1]])\n",
    "\n",
    "A = np.array([[0, 1], [-a, -b]])\n",
    "B = np.array([[0], [1]])\n",
    "\n",
    "P = spla.solve_continuous_are(A, B, Q, R)\n",
    "K = np.dot(np.linalg.inv(R), np.dot(B.T, P))\n",
    "\n",
    "# LQG design\n",
    "Q_w = np.array([[0.1, 0], [0, 0.1]])\n",
    "R_v = np.array([[0.1]])\n",
    "\n",
    "C = np.array([[1, 0]])\n",
    "L = control.dare(A.T, C.T, Q_w, R_v)[0].T \n",
    "# Closed-loop simulation\n",
    "x0 = np.array([2, 0])\n",
    "u = 0\n",
    "\n",
    "t = np.linspace(0, 50, 1000)\n",
    "x = spi.odeint(lambda x, t: lorentz_sys(x, t, -np.dot(K, (x - x0)) + u), x0, t)\n",
    "\n",
    "plt.plot(t, x[:, 0], label='x')\n",
    "plt.plot(t, x[:, 1], label='y')\n",
    "plt.legend()\n",
    "plt.show()\n"
   ]
  },
  {
   "cell_type": "code",
   "execution_count": null,
   "metadata": {},
   "outputs": [],
   "source": []
  }
 ],
 "metadata": {
  "kernelspec": {
   "display_name": "minimal_ds",
   "language": "python",
   "name": "python3"
  },
  "language_info": {
   "codemirror_mode": {
    "name": "ipython",
    "version": 3
   },
   "file_extension": ".py",
   "mimetype": "text/x-python",
   "name": "python",
   "nbconvert_exporter": "python",
   "pygments_lexer": "ipython3",
   "version": "3.10.8"
  },
  "orig_nbformat": 4,
  "vscode": {
   "interpreter": {
    "hash": "a9e51e4d38f468449ead9f3ac24229a544ba7a5ad61f32fc803f1e7316a0b55e"
   }
  }
 },
 "nbformat": 4,
 "nbformat_minor": 2
}
